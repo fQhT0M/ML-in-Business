{
 "cells": [
  {
   "cell_type": "markdown",
   "metadata": {},
   "source": [
    "# Выбор локации для скважины"
   ]
  },
  {
   "cell_type": "markdown",
   "metadata": {},
   "source": [
    "Допустим, вы работаете в добывающей компании «ГлавРосГосНефть». Нужно решить, где бурить новую скважину.\n",
    "\n",
    "Вам предоставлены пробы нефти в трёх регионах: в каждом 10 000 месторождений, где измерили качество нефти и объём её запасов. Постройте модель машинного обучения, которая поможет определить регион, где добыча принесёт наибольшую прибыль. Проанализируйте возможную прибыль и риски техникой *Bootstrap.*\n",
    "\n",
    "Шаги для выбора локации:\n",
    "\n",
    "- В избранном регионе ищут месторождения, для каждого определяют значения признаков;\n",
    "- Строят модель и оценивают объём запасов;\n",
    "- Выбирают месторождения с самым высокими оценками значений. Количество месторождений зависит от бюджета компании и стоимости разработки одной скважины;\n",
    "- Прибыль равна суммарной прибыли отобранных месторождений."
   ]
  },
  {
   "cell_type": "markdown",
   "metadata": {},
   "source": [
    "Название проекта: анализ месторождений нефти. \n",
    "\n",
    "Цели: найти месторождение, удовлетворяющее условиям компании-заказчика."
   ]
  },
  {
   "cell_type": "markdown",
   "metadata": {},
   "source": [
    "## Загрузка и подготовка данных"
   ]
  },
  {
   "cell_type": "markdown",
   "metadata": {},
   "source": [
    "Импорт библиотек"
   ]
  },
  {
   "cell_type": "code",
   "execution_count": 1,
   "metadata": {},
   "outputs": [],
   "source": [
    "!pip install scikit-learn==1.1.3 -q\n",
    "!pip install matplotlib==3.5.2 -q"
   ]
  },
  {
   "cell_type": "code",
   "execution_count": 2,
   "metadata": {},
   "outputs": [],
   "source": [
    "!pip install phik -q"
   ]
  },
  {
   "cell_type": "code",
   "execution_count": 3,
   "metadata": {},
   "outputs": [],
   "source": [
    "!pip install shap -q"
   ]
  },
  {
   "cell_type": "code",
   "execution_count": 4,
   "metadata": {},
   "outputs": [],
   "source": [
    "import matplotlib.pyplot as plt\n",
    "import pandas as pd\n",
    "import numpy as np\n",
    "import seaborn as sns\n",
    "import math\n",
    "from sklearn.model_selection import train_test_split\n",
    "from sklearn.impute import SimpleImputer\n",
    "from sklearn.pipeline import Pipeline\n",
    "from sklearn.preprocessing import OneHotEncoder, OrdinalEncoder, StandardScaler, MinMaxScaler, LabelEncoder\n",
    "from sklearn.compose import ColumnTransformer\n",
    "from sklearn.metrics import roc_auc_score\n",
    "from sklearn.model_selection import GridSearchCV, RandomizedSearchCV\n",
    "from sklearn.linear_model import LinearRegression, LogisticRegression\n",
    "from sklearn.neighbors import KNeighborsClassifier\n",
    "from sklearn.svm import SVC\n",
    "from sklearn.tree import DecisionTreeRegressor, DecisionTreeClassifier\n",
    "from phik import phik_matrix\n",
    "from phik.report import plot_correlation_matrix\n",
    "from sklearn.metrics import make_scorer\n",
    "from scipy.stats import ttest_ind, mannwhitneyu, shapiro\n",
    "import shap\n",
    "from sklearn.metrics import mean_squared_error\n",
    "from numpy.random import RandomState"
   ]
  },
  {
   "cell_type": "markdown",
   "metadata": {},
   "source": [
    "Загрузка данных"
   ]
  },
  {
   "cell_type": "code",
   "execution_count": 5,
   "metadata": {},
   "outputs": [],
   "source": [
    "data_0 = pd.read_csv('/datasets/geo_data_0.csv')\n",
    "data_1 = pd.read_csv('/datasets/geo_data_1.csv')\n",
    "data_2 = pd.read_csv('/datasets/geo_data_2.csv')\n",
    "data_0.name = 'data_0'\n",
    "data_1.name = 'data_1'\n",
    "data_2.name = 'data_2'"
   ]
  },
  {
   "cell_type": "markdown",
   "metadata": {},
   "source": [
    "Обозначим константы, которые нам понадобятся в работе"
   ]
  },
  {
   "cell_type": "code",
   "execution_count": 6,
   "metadata": {},
   "outputs": [],
   "source": [
    "REGION_BUDGET_RUB = 10*10**9 # Бюджет на разработку 200 скважин в регионе\n",
    "TOTAL_QUANTITY_POINTS = 500 # При разведке региона исследуют 500 точек\n",
    "SELECTED_QUANTITY_POINTS = 200 # с помощью машинного обучения выбирают 200 точек лучших для разработки\n",
    "BUDGET_QUANTITY_POINTS_RUB = REGION_BUDGET_RUB / SELECTED_QUANTITY_POINTS\n",
    "BARREL_INCOME_RUB = 450 # доход с каждого барреля\n",
    "PRODUCT_UNITS_INCOME_RUB = 450 * 10**3 # доход с каждой единицы продукта\n",
    "LOSS_PROBABILITY_THRESHOLD_PERSENT = 2,5 # порог вероятности убытков, максимальное допустимое значение, проценты"
   ]
  },
  {
   "cell_type": "markdown",
   "metadata": {},
   "source": [
    "Предобработка данных"
   ]
  },
  {
   "cell_type": "code",
   "execution_count": 7,
   "metadata": {},
   "outputs": [],
   "source": [
    "def describe_df(DataFrame):\n",
    "\n",
    "    print('Название датасета:', DataFrame.name, '\\n')\n",
    "\n",
    "    print('Количество столбцов:', DataFrame.shape[1])\n",
    "    print('Количество строк:', DataFrame.shape[0], '\\n')\n",
    "\n",
    "    print('Пропуски:\\n')\n",
    "    print(DataFrame.isna().sum(),'\\n')\n",
    "    print('Дубликаты:', DataFrame.duplicated().sum(),'\\n')\n",
    "    print(f'\\nТипы данных: \\n{DataFrame.dtypes}')\n",
    "\n",
    "    print('Описание:\\n')\n",
    "    display(DataFrame.describe())\n",
    "    print()\n",
    "\n",
    "    print('Dataframe начало\\n')\n",
    "    display(DataFrame.head())\n",
    "    print()\n",
    "    print('Dataframe конец\\n')\n",
    "    display(DataFrame.tail())"
   ]
  },
  {
   "cell_type": "code",
   "execution_count": 8,
   "metadata": {},
   "outputs": [
    {
     "name": "stdout",
     "output_type": "stream",
     "text": [
      "Название датасета: data_0 \n",
      "\n",
      "Количество столбцов: 5\n",
      "Количество строк: 100000 \n",
      "\n",
      "Пропуски:\n",
      "\n",
      "id         0\n",
      "f0         0\n",
      "f1         0\n",
      "f2         0\n",
      "product    0\n",
      "dtype: int64 \n",
      "\n",
      "Дубликаты: 0 \n",
      "\n",
      "\n",
      "Типы данных: \n",
      "id          object\n",
      "f0         float64\n",
      "f1         float64\n",
      "f2         float64\n",
      "product    float64\n",
      "dtype: object\n",
      "Описание:\n",
      "\n"
     ]
    },
    {
     "data": {
      "text/html": [
       "<div>\n",
       "<style scoped>\n",
       "    .dataframe tbody tr th:only-of-type {\n",
       "        vertical-align: middle;\n",
       "    }\n",
       "\n",
       "    .dataframe tbody tr th {\n",
       "        vertical-align: top;\n",
       "    }\n",
       "\n",
       "    .dataframe thead th {\n",
       "        text-align: right;\n",
       "    }\n",
       "</style>\n",
       "<table border=\"1\" class=\"dataframe\">\n",
       "  <thead>\n",
       "    <tr style=\"text-align: right;\">\n",
       "      <th></th>\n",
       "      <th>f0</th>\n",
       "      <th>f1</th>\n",
       "      <th>f2</th>\n",
       "      <th>product</th>\n",
       "    </tr>\n",
       "  </thead>\n",
       "  <tbody>\n",
       "    <tr>\n",
       "      <th>count</th>\n",
       "      <td>100000.000000</td>\n",
       "      <td>100000.000000</td>\n",
       "      <td>100000.000000</td>\n",
       "      <td>100000.000000</td>\n",
       "    </tr>\n",
       "    <tr>\n",
       "      <th>mean</th>\n",
       "      <td>0.500419</td>\n",
       "      <td>0.250143</td>\n",
       "      <td>2.502647</td>\n",
       "      <td>92.500000</td>\n",
       "    </tr>\n",
       "    <tr>\n",
       "      <th>std</th>\n",
       "      <td>0.871832</td>\n",
       "      <td>0.504433</td>\n",
       "      <td>3.248248</td>\n",
       "      <td>44.288691</td>\n",
       "    </tr>\n",
       "    <tr>\n",
       "      <th>min</th>\n",
       "      <td>-1.408605</td>\n",
       "      <td>-0.848218</td>\n",
       "      <td>-12.088328</td>\n",
       "      <td>0.000000</td>\n",
       "    </tr>\n",
       "    <tr>\n",
       "      <th>25%</th>\n",
       "      <td>-0.072580</td>\n",
       "      <td>-0.200881</td>\n",
       "      <td>0.287748</td>\n",
       "      <td>56.497507</td>\n",
       "    </tr>\n",
       "    <tr>\n",
       "      <th>50%</th>\n",
       "      <td>0.502360</td>\n",
       "      <td>0.250252</td>\n",
       "      <td>2.515969</td>\n",
       "      <td>91.849972</td>\n",
       "    </tr>\n",
       "    <tr>\n",
       "      <th>75%</th>\n",
       "      <td>1.073581</td>\n",
       "      <td>0.700646</td>\n",
       "      <td>4.715088</td>\n",
       "      <td>128.564089</td>\n",
       "    </tr>\n",
       "    <tr>\n",
       "      <th>max</th>\n",
       "      <td>2.362331</td>\n",
       "      <td>1.343769</td>\n",
       "      <td>16.003790</td>\n",
       "      <td>185.364347</td>\n",
       "    </tr>\n",
       "  </tbody>\n",
       "</table>\n",
       "</div>"
      ],
      "text/plain": [
       "                  f0             f1             f2        product\n",
       "count  100000.000000  100000.000000  100000.000000  100000.000000\n",
       "mean        0.500419       0.250143       2.502647      92.500000\n",
       "std         0.871832       0.504433       3.248248      44.288691\n",
       "min        -1.408605      -0.848218     -12.088328       0.000000\n",
       "25%        -0.072580      -0.200881       0.287748      56.497507\n",
       "50%         0.502360       0.250252       2.515969      91.849972\n",
       "75%         1.073581       0.700646       4.715088     128.564089\n",
       "max         2.362331       1.343769      16.003790     185.364347"
      ]
     },
     "metadata": {},
     "output_type": "display_data"
    },
    {
     "name": "stdout",
     "output_type": "stream",
     "text": [
      "\n",
      "Dataframe начало\n",
      "\n"
     ]
    },
    {
     "data": {
      "text/html": [
       "<div>\n",
       "<style scoped>\n",
       "    .dataframe tbody tr th:only-of-type {\n",
       "        vertical-align: middle;\n",
       "    }\n",
       "\n",
       "    .dataframe tbody tr th {\n",
       "        vertical-align: top;\n",
       "    }\n",
       "\n",
       "    .dataframe thead th {\n",
       "        text-align: right;\n",
       "    }\n",
       "</style>\n",
       "<table border=\"1\" class=\"dataframe\">\n",
       "  <thead>\n",
       "    <tr style=\"text-align: right;\">\n",
       "      <th></th>\n",
       "      <th>id</th>\n",
       "      <th>f0</th>\n",
       "      <th>f1</th>\n",
       "      <th>f2</th>\n",
       "      <th>product</th>\n",
       "    </tr>\n",
       "  </thead>\n",
       "  <tbody>\n",
       "    <tr>\n",
       "      <th>0</th>\n",
       "      <td>txEyH</td>\n",
       "      <td>0.705745</td>\n",
       "      <td>-0.497823</td>\n",
       "      <td>1.221170</td>\n",
       "      <td>105.280062</td>\n",
       "    </tr>\n",
       "    <tr>\n",
       "      <th>1</th>\n",
       "      <td>2acmU</td>\n",
       "      <td>1.334711</td>\n",
       "      <td>-0.340164</td>\n",
       "      <td>4.365080</td>\n",
       "      <td>73.037750</td>\n",
       "    </tr>\n",
       "    <tr>\n",
       "      <th>2</th>\n",
       "      <td>409Wp</td>\n",
       "      <td>1.022732</td>\n",
       "      <td>0.151990</td>\n",
       "      <td>1.419926</td>\n",
       "      <td>85.265647</td>\n",
       "    </tr>\n",
       "    <tr>\n",
       "      <th>3</th>\n",
       "      <td>iJLyR</td>\n",
       "      <td>-0.032172</td>\n",
       "      <td>0.139033</td>\n",
       "      <td>2.978566</td>\n",
       "      <td>168.620776</td>\n",
       "    </tr>\n",
       "    <tr>\n",
       "      <th>4</th>\n",
       "      <td>Xdl7t</td>\n",
       "      <td>1.988431</td>\n",
       "      <td>0.155413</td>\n",
       "      <td>4.751769</td>\n",
       "      <td>154.036647</td>\n",
       "    </tr>\n",
       "  </tbody>\n",
       "</table>\n",
       "</div>"
      ],
      "text/plain": [
       "      id        f0        f1        f2     product\n",
       "0  txEyH  0.705745 -0.497823  1.221170  105.280062\n",
       "1  2acmU  1.334711 -0.340164  4.365080   73.037750\n",
       "2  409Wp  1.022732  0.151990  1.419926   85.265647\n",
       "3  iJLyR -0.032172  0.139033  2.978566  168.620776\n",
       "4  Xdl7t  1.988431  0.155413  4.751769  154.036647"
      ]
     },
     "metadata": {},
     "output_type": "display_data"
    },
    {
     "name": "stdout",
     "output_type": "stream",
     "text": [
      "\n",
      "Dataframe конец\n",
      "\n"
     ]
    },
    {
     "data": {
      "text/html": [
       "<div>\n",
       "<style scoped>\n",
       "    .dataframe tbody tr th:only-of-type {\n",
       "        vertical-align: middle;\n",
       "    }\n",
       "\n",
       "    .dataframe tbody tr th {\n",
       "        vertical-align: top;\n",
       "    }\n",
       "\n",
       "    .dataframe thead th {\n",
       "        text-align: right;\n",
       "    }\n",
       "</style>\n",
       "<table border=\"1\" class=\"dataframe\">\n",
       "  <thead>\n",
       "    <tr style=\"text-align: right;\">\n",
       "      <th></th>\n",
       "      <th>id</th>\n",
       "      <th>f0</th>\n",
       "      <th>f1</th>\n",
       "      <th>f2</th>\n",
       "      <th>product</th>\n",
       "    </tr>\n",
       "  </thead>\n",
       "  <tbody>\n",
       "    <tr>\n",
       "      <th>99995</th>\n",
       "      <td>DLsed</td>\n",
       "      <td>0.971957</td>\n",
       "      <td>0.370953</td>\n",
       "      <td>6.075346</td>\n",
       "      <td>110.744026</td>\n",
       "    </tr>\n",
       "    <tr>\n",
       "      <th>99996</th>\n",
       "      <td>QKivN</td>\n",
       "      <td>1.392429</td>\n",
       "      <td>-0.382606</td>\n",
       "      <td>1.273912</td>\n",
       "      <td>122.346843</td>\n",
       "    </tr>\n",
       "    <tr>\n",
       "      <th>99997</th>\n",
       "      <td>3rnvd</td>\n",
       "      <td>1.029585</td>\n",
       "      <td>0.018787</td>\n",
       "      <td>-1.348308</td>\n",
       "      <td>64.375443</td>\n",
       "    </tr>\n",
       "    <tr>\n",
       "      <th>99998</th>\n",
       "      <td>7kl59</td>\n",
       "      <td>0.998163</td>\n",
       "      <td>-0.528582</td>\n",
       "      <td>1.583869</td>\n",
       "      <td>74.040764</td>\n",
       "    </tr>\n",
       "    <tr>\n",
       "      <th>99999</th>\n",
       "      <td>1CWhH</td>\n",
       "      <td>1.764754</td>\n",
       "      <td>-0.266417</td>\n",
       "      <td>5.722849</td>\n",
       "      <td>149.633246</td>\n",
       "    </tr>\n",
       "  </tbody>\n",
       "</table>\n",
       "</div>"
      ],
      "text/plain": [
       "          id        f0        f1        f2     product\n",
       "99995  DLsed  0.971957  0.370953  6.075346  110.744026\n",
       "99996  QKivN  1.392429 -0.382606  1.273912  122.346843\n",
       "99997  3rnvd  1.029585  0.018787 -1.348308   64.375443\n",
       "99998  7kl59  0.998163 -0.528582  1.583869   74.040764\n",
       "99999  1CWhH  1.764754 -0.266417  5.722849  149.633246"
      ]
     },
     "metadata": {},
     "output_type": "display_data"
    }
   ],
   "source": [
    "describe_df(data_0)"
   ]
  },
  {
   "cell_type": "code",
   "execution_count": 9,
   "metadata": {},
   "outputs": [
    {
     "name": "stdout",
     "output_type": "stream",
     "text": [
      "Название датасета: data_1 \n",
      "\n",
      "Количество столбцов: 5\n",
      "Количество строк: 100000 \n",
      "\n",
      "Пропуски:\n",
      "\n",
      "id         0\n",
      "f0         0\n",
      "f1         0\n",
      "f2         0\n",
      "product    0\n",
      "dtype: int64 \n",
      "\n",
      "Дубликаты: 0 \n",
      "\n",
      "\n",
      "Типы данных: \n",
      "id          object\n",
      "f0         float64\n",
      "f1         float64\n",
      "f2         float64\n",
      "product    float64\n",
      "dtype: object\n",
      "Описание:\n",
      "\n"
     ]
    },
    {
     "data": {
      "text/html": [
       "<div>\n",
       "<style scoped>\n",
       "    .dataframe tbody tr th:only-of-type {\n",
       "        vertical-align: middle;\n",
       "    }\n",
       "\n",
       "    .dataframe tbody tr th {\n",
       "        vertical-align: top;\n",
       "    }\n",
       "\n",
       "    .dataframe thead th {\n",
       "        text-align: right;\n",
       "    }\n",
       "</style>\n",
       "<table border=\"1\" class=\"dataframe\">\n",
       "  <thead>\n",
       "    <tr style=\"text-align: right;\">\n",
       "      <th></th>\n",
       "      <th>f0</th>\n",
       "      <th>f1</th>\n",
       "      <th>f2</th>\n",
       "      <th>product</th>\n",
       "    </tr>\n",
       "  </thead>\n",
       "  <tbody>\n",
       "    <tr>\n",
       "      <th>count</th>\n",
       "      <td>100000.000000</td>\n",
       "      <td>100000.000000</td>\n",
       "      <td>100000.000000</td>\n",
       "      <td>100000.000000</td>\n",
       "    </tr>\n",
       "    <tr>\n",
       "      <th>mean</th>\n",
       "      <td>1.141296</td>\n",
       "      <td>-4.796579</td>\n",
       "      <td>2.494541</td>\n",
       "      <td>68.825000</td>\n",
       "    </tr>\n",
       "    <tr>\n",
       "      <th>std</th>\n",
       "      <td>8.965932</td>\n",
       "      <td>5.119872</td>\n",
       "      <td>1.703572</td>\n",
       "      <td>45.944423</td>\n",
       "    </tr>\n",
       "    <tr>\n",
       "      <th>min</th>\n",
       "      <td>-31.609576</td>\n",
       "      <td>-26.358598</td>\n",
       "      <td>-0.018144</td>\n",
       "      <td>0.000000</td>\n",
       "    </tr>\n",
       "    <tr>\n",
       "      <th>25%</th>\n",
       "      <td>-6.298551</td>\n",
       "      <td>-8.267985</td>\n",
       "      <td>1.000021</td>\n",
       "      <td>26.953261</td>\n",
       "    </tr>\n",
       "    <tr>\n",
       "      <th>50%</th>\n",
       "      <td>1.153055</td>\n",
       "      <td>-4.813172</td>\n",
       "      <td>2.011479</td>\n",
       "      <td>57.085625</td>\n",
       "    </tr>\n",
       "    <tr>\n",
       "      <th>75%</th>\n",
       "      <td>8.621015</td>\n",
       "      <td>-1.332816</td>\n",
       "      <td>3.999904</td>\n",
       "      <td>107.813044</td>\n",
       "    </tr>\n",
       "    <tr>\n",
       "      <th>max</th>\n",
       "      <td>29.421755</td>\n",
       "      <td>18.734063</td>\n",
       "      <td>5.019721</td>\n",
       "      <td>137.945408</td>\n",
       "    </tr>\n",
       "  </tbody>\n",
       "</table>\n",
       "</div>"
      ],
      "text/plain": [
       "                  f0             f1             f2        product\n",
       "count  100000.000000  100000.000000  100000.000000  100000.000000\n",
       "mean        1.141296      -4.796579       2.494541      68.825000\n",
       "std         8.965932       5.119872       1.703572      45.944423\n",
       "min       -31.609576     -26.358598      -0.018144       0.000000\n",
       "25%        -6.298551      -8.267985       1.000021      26.953261\n",
       "50%         1.153055      -4.813172       2.011479      57.085625\n",
       "75%         8.621015      -1.332816       3.999904     107.813044\n",
       "max        29.421755      18.734063       5.019721     137.945408"
      ]
     },
     "metadata": {},
     "output_type": "display_data"
    },
    {
     "name": "stdout",
     "output_type": "stream",
     "text": [
      "\n",
      "Dataframe начало\n",
      "\n"
     ]
    },
    {
     "data": {
      "text/html": [
       "<div>\n",
       "<style scoped>\n",
       "    .dataframe tbody tr th:only-of-type {\n",
       "        vertical-align: middle;\n",
       "    }\n",
       "\n",
       "    .dataframe tbody tr th {\n",
       "        vertical-align: top;\n",
       "    }\n",
       "\n",
       "    .dataframe thead th {\n",
       "        text-align: right;\n",
       "    }\n",
       "</style>\n",
       "<table border=\"1\" class=\"dataframe\">\n",
       "  <thead>\n",
       "    <tr style=\"text-align: right;\">\n",
       "      <th></th>\n",
       "      <th>id</th>\n",
       "      <th>f0</th>\n",
       "      <th>f1</th>\n",
       "      <th>f2</th>\n",
       "      <th>product</th>\n",
       "    </tr>\n",
       "  </thead>\n",
       "  <tbody>\n",
       "    <tr>\n",
       "      <th>0</th>\n",
       "      <td>kBEdx</td>\n",
       "      <td>-15.001348</td>\n",
       "      <td>-8.276000</td>\n",
       "      <td>-0.005876</td>\n",
       "      <td>3.179103</td>\n",
       "    </tr>\n",
       "    <tr>\n",
       "      <th>1</th>\n",
       "      <td>62mP7</td>\n",
       "      <td>14.272088</td>\n",
       "      <td>-3.475083</td>\n",
       "      <td>0.999183</td>\n",
       "      <td>26.953261</td>\n",
       "    </tr>\n",
       "    <tr>\n",
       "      <th>2</th>\n",
       "      <td>vyE1P</td>\n",
       "      <td>6.263187</td>\n",
       "      <td>-5.948386</td>\n",
       "      <td>5.001160</td>\n",
       "      <td>134.766305</td>\n",
       "    </tr>\n",
       "    <tr>\n",
       "      <th>3</th>\n",
       "      <td>KcrkZ</td>\n",
       "      <td>-13.081196</td>\n",
       "      <td>-11.506057</td>\n",
       "      <td>4.999415</td>\n",
       "      <td>137.945408</td>\n",
       "    </tr>\n",
       "    <tr>\n",
       "      <th>4</th>\n",
       "      <td>AHL4O</td>\n",
       "      <td>12.702195</td>\n",
       "      <td>-8.147433</td>\n",
       "      <td>5.004363</td>\n",
       "      <td>134.766305</td>\n",
       "    </tr>\n",
       "  </tbody>\n",
       "</table>\n",
       "</div>"
      ],
      "text/plain": [
       "      id         f0         f1        f2     product\n",
       "0  kBEdx -15.001348  -8.276000 -0.005876    3.179103\n",
       "1  62mP7  14.272088  -3.475083  0.999183   26.953261\n",
       "2  vyE1P   6.263187  -5.948386  5.001160  134.766305\n",
       "3  KcrkZ -13.081196 -11.506057  4.999415  137.945408\n",
       "4  AHL4O  12.702195  -8.147433  5.004363  134.766305"
      ]
     },
     "metadata": {},
     "output_type": "display_data"
    },
    {
     "name": "stdout",
     "output_type": "stream",
     "text": [
      "\n",
      "Dataframe конец\n",
      "\n"
     ]
    },
    {
     "data": {
      "text/html": [
       "<div>\n",
       "<style scoped>\n",
       "    .dataframe tbody tr th:only-of-type {\n",
       "        vertical-align: middle;\n",
       "    }\n",
       "\n",
       "    .dataframe tbody tr th {\n",
       "        vertical-align: top;\n",
       "    }\n",
       "\n",
       "    .dataframe thead th {\n",
       "        text-align: right;\n",
       "    }\n",
       "</style>\n",
       "<table border=\"1\" class=\"dataframe\">\n",
       "  <thead>\n",
       "    <tr style=\"text-align: right;\">\n",
       "      <th></th>\n",
       "      <th>id</th>\n",
       "      <th>f0</th>\n",
       "      <th>f1</th>\n",
       "      <th>f2</th>\n",
       "      <th>product</th>\n",
       "    </tr>\n",
       "  </thead>\n",
       "  <tbody>\n",
       "    <tr>\n",
       "      <th>99995</th>\n",
       "      <td>QywKC</td>\n",
       "      <td>9.535637</td>\n",
       "      <td>-6.878139</td>\n",
       "      <td>1.998296</td>\n",
       "      <td>53.906522</td>\n",
       "    </tr>\n",
       "    <tr>\n",
       "      <th>99996</th>\n",
       "      <td>ptvty</td>\n",
       "      <td>-10.160631</td>\n",
       "      <td>-12.558096</td>\n",
       "      <td>5.005581</td>\n",
       "      <td>137.945408</td>\n",
       "    </tr>\n",
       "    <tr>\n",
       "      <th>99997</th>\n",
       "      <td>09gWa</td>\n",
       "      <td>-7.378891</td>\n",
       "      <td>-3.084104</td>\n",
       "      <td>4.998651</td>\n",
       "      <td>137.945408</td>\n",
       "    </tr>\n",
       "    <tr>\n",
       "      <th>99998</th>\n",
       "      <td>rqwUm</td>\n",
       "      <td>0.665714</td>\n",
       "      <td>-6.152593</td>\n",
       "      <td>1.000146</td>\n",
       "      <td>30.132364</td>\n",
       "    </tr>\n",
       "    <tr>\n",
       "      <th>99999</th>\n",
       "      <td>relB0</td>\n",
       "      <td>-3.426139</td>\n",
       "      <td>-7.794274</td>\n",
       "      <td>-0.003299</td>\n",
       "      <td>3.179103</td>\n",
       "    </tr>\n",
       "  </tbody>\n",
       "</table>\n",
       "</div>"
      ],
      "text/plain": [
       "          id         f0         f1        f2     product\n",
       "99995  QywKC   9.535637  -6.878139  1.998296   53.906522\n",
       "99996  ptvty -10.160631 -12.558096  5.005581  137.945408\n",
       "99997  09gWa  -7.378891  -3.084104  4.998651  137.945408\n",
       "99998  rqwUm   0.665714  -6.152593  1.000146   30.132364\n",
       "99999  relB0  -3.426139  -7.794274 -0.003299    3.179103"
      ]
     },
     "metadata": {},
     "output_type": "display_data"
    }
   ],
   "source": [
    "describe_df(data_1)"
   ]
  },
  {
   "cell_type": "code",
   "execution_count": 10,
   "metadata": {},
   "outputs": [
    {
     "name": "stdout",
     "output_type": "stream",
     "text": [
      "Название датасета: data_2 \n",
      "\n",
      "Количество столбцов: 5\n",
      "Количество строк: 100000 \n",
      "\n",
      "Пропуски:\n",
      "\n",
      "id         0\n",
      "f0         0\n",
      "f1         0\n",
      "f2         0\n",
      "product    0\n",
      "dtype: int64 \n",
      "\n",
      "Дубликаты: 0 \n",
      "\n",
      "\n",
      "Типы данных: \n",
      "id          object\n",
      "f0         float64\n",
      "f1         float64\n",
      "f2         float64\n",
      "product    float64\n",
      "dtype: object\n",
      "Описание:\n",
      "\n"
     ]
    },
    {
     "data": {
      "text/html": [
       "<div>\n",
       "<style scoped>\n",
       "    .dataframe tbody tr th:only-of-type {\n",
       "        vertical-align: middle;\n",
       "    }\n",
       "\n",
       "    .dataframe tbody tr th {\n",
       "        vertical-align: top;\n",
       "    }\n",
       "\n",
       "    .dataframe thead th {\n",
       "        text-align: right;\n",
       "    }\n",
       "</style>\n",
       "<table border=\"1\" class=\"dataframe\">\n",
       "  <thead>\n",
       "    <tr style=\"text-align: right;\">\n",
       "      <th></th>\n",
       "      <th>f0</th>\n",
       "      <th>f1</th>\n",
       "      <th>f2</th>\n",
       "      <th>product</th>\n",
       "    </tr>\n",
       "  </thead>\n",
       "  <tbody>\n",
       "    <tr>\n",
       "      <th>count</th>\n",
       "      <td>100000.000000</td>\n",
       "      <td>100000.000000</td>\n",
       "      <td>100000.000000</td>\n",
       "      <td>100000.000000</td>\n",
       "    </tr>\n",
       "    <tr>\n",
       "      <th>mean</th>\n",
       "      <td>0.002023</td>\n",
       "      <td>-0.002081</td>\n",
       "      <td>2.495128</td>\n",
       "      <td>95.000000</td>\n",
       "    </tr>\n",
       "    <tr>\n",
       "      <th>std</th>\n",
       "      <td>1.732045</td>\n",
       "      <td>1.730417</td>\n",
       "      <td>3.473445</td>\n",
       "      <td>44.749921</td>\n",
       "    </tr>\n",
       "    <tr>\n",
       "      <th>min</th>\n",
       "      <td>-8.760004</td>\n",
       "      <td>-7.084020</td>\n",
       "      <td>-11.970335</td>\n",
       "      <td>0.000000</td>\n",
       "    </tr>\n",
       "    <tr>\n",
       "      <th>25%</th>\n",
       "      <td>-1.162288</td>\n",
       "      <td>-1.174820</td>\n",
       "      <td>0.130359</td>\n",
       "      <td>59.450441</td>\n",
       "    </tr>\n",
       "    <tr>\n",
       "      <th>50%</th>\n",
       "      <td>0.009424</td>\n",
       "      <td>-0.009482</td>\n",
       "      <td>2.484236</td>\n",
       "      <td>94.925613</td>\n",
       "    </tr>\n",
       "    <tr>\n",
       "      <th>75%</th>\n",
       "      <td>1.158535</td>\n",
       "      <td>1.163678</td>\n",
       "      <td>4.858794</td>\n",
       "      <td>130.595027</td>\n",
       "    </tr>\n",
       "    <tr>\n",
       "      <th>max</th>\n",
       "      <td>7.238262</td>\n",
       "      <td>7.844801</td>\n",
       "      <td>16.739402</td>\n",
       "      <td>190.029838</td>\n",
       "    </tr>\n",
       "  </tbody>\n",
       "</table>\n",
       "</div>"
      ],
      "text/plain": [
       "                  f0             f1             f2        product\n",
       "count  100000.000000  100000.000000  100000.000000  100000.000000\n",
       "mean        0.002023      -0.002081       2.495128      95.000000\n",
       "std         1.732045       1.730417       3.473445      44.749921\n",
       "min        -8.760004      -7.084020     -11.970335       0.000000\n",
       "25%        -1.162288      -1.174820       0.130359      59.450441\n",
       "50%         0.009424      -0.009482       2.484236      94.925613\n",
       "75%         1.158535       1.163678       4.858794     130.595027\n",
       "max         7.238262       7.844801      16.739402     190.029838"
      ]
     },
     "metadata": {},
     "output_type": "display_data"
    },
    {
     "name": "stdout",
     "output_type": "stream",
     "text": [
      "\n",
      "Dataframe начало\n",
      "\n"
     ]
    },
    {
     "data": {
      "text/html": [
       "<div>\n",
       "<style scoped>\n",
       "    .dataframe tbody tr th:only-of-type {\n",
       "        vertical-align: middle;\n",
       "    }\n",
       "\n",
       "    .dataframe tbody tr th {\n",
       "        vertical-align: top;\n",
       "    }\n",
       "\n",
       "    .dataframe thead th {\n",
       "        text-align: right;\n",
       "    }\n",
       "</style>\n",
       "<table border=\"1\" class=\"dataframe\">\n",
       "  <thead>\n",
       "    <tr style=\"text-align: right;\">\n",
       "      <th></th>\n",
       "      <th>id</th>\n",
       "      <th>f0</th>\n",
       "      <th>f1</th>\n",
       "      <th>f2</th>\n",
       "      <th>product</th>\n",
       "    </tr>\n",
       "  </thead>\n",
       "  <tbody>\n",
       "    <tr>\n",
       "      <th>0</th>\n",
       "      <td>fwXo0</td>\n",
       "      <td>-1.146987</td>\n",
       "      <td>0.963328</td>\n",
       "      <td>-0.828965</td>\n",
       "      <td>27.758673</td>\n",
       "    </tr>\n",
       "    <tr>\n",
       "      <th>1</th>\n",
       "      <td>WJtFt</td>\n",
       "      <td>0.262778</td>\n",
       "      <td>0.269839</td>\n",
       "      <td>-2.530187</td>\n",
       "      <td>56.069697</td>\n",
       "    </tr>\n",
       "    <tr>\n",
       "      <th>2</th>\n",
       "      <td>ovLUW</td>\n",
       "      <td>0.194587</td>\n",
       "      <td>0.289035</td>\n",
       "      <td>-5.586433</td>\n",
       "      <td>62.871910</td>\n",
       "    </tr>\n",
       "    <tr>\n",
       "      <th>3</th>\n",
       "      <td>q6cA6</td>\n",
       "      <td>2.236060</td>\n",
       "      <td>-0.553760</td>\n",
       "      <td>0.930038</td>\n",
       "      <td>114.572842</td>\n",
       "    </tr>\n",
       "    <tr>\n",
       "      <th>4</th>\n",
       "      <td>WPMUX</td>\n",
       "      <td>-0.515993</td>\n",
       "      <td>1.716266</td>\n",
       "      <td>5.899011</td>\n",
       "      <td>149.600746</td>\n",
       "    </tr>\n",
       "  </tbody>\n",
       "</table>\n",
       "</div>"
      ],
      "text/plain": [
       "      id        f0        f1        f2     product\n",
       "0  fwXo0 -1.146987  0.963328 -0.828965   27.758673\n",
       "1  WJtFt  0.262778  0.269839 -2.530187   56.069697\n",
       "2  ovLUW  0.194587  0.289035 -5.586433   62.871910\n",
       "3  q6cA6  2.236060 -0.553760  0.930038  114.572842\n",
       "4  WPMUX -0.515993  1.716266  5.899011  149.600746"
      ]
     },
     "metadata": {},
     "output_type": "display_data"
    },
    {
     "name": "stdout",
     "output_type": "stream",
     "text": [
      "\n",
      "Dataframe конец\n",
      "\n"
     ]
    },
    {
     "data": {
      "text/html": [
       "<div>\n",
       "<style scoped>\n",
       "    .dataframe tbody tr th:only-of-type {\n",
       "        vertical-align: middle;\n",
       "    }\n",
       "\n",
       "    .dataframe tbody tr th {\n",
       "        vertical-align: top;\n",
       "    }\n",
       "\n",
       "    .dataframe thead th {\n",
       "        text-align: right;\n",
       "    }\n",
       "</style>\n",
       "<table border=\"1\" class=\"dataframe\">\n",
       "  <thead>\n",
       "    <tr style=\"text-align: right;\">\n",
       "      <th></th>\n",
       "      <th>id</th>\n",
       "      <th>f0</th>\n",
       "      <th>f1</th>\n",
       "      <th>f2</th>\n",
       "      <th>product</th>\n",
       "    </tr>\n",
       "  </thead>\n",
       "  <tbody>\n",
       "    <tr>\n",
       "      <th>99995</th>\n",
       "      <td>4GxBu</td>\n",
       "      <td>-1.777037</td>\n",
       "      <td>1.125220</td>\n",
       "      <td>6.263374</td>\n",
       "      <td>172.327046</td>\n",
       "    </tr>\n",
       "    <tr>\n",
       "      <th>99996</th>\n",
       "      <td>YKFjq</td>\n",
       "      <td>-1.261523</td>\n",
       "      <td>-0.894828</td>\n",
       "      <td>2.524545</td>\n",
       "      <td>138.748846</td>\n",
       "    </tr>\n",
       "    <tr>\n",
       "      <th>99997</th>\n",
       "      <td>tKPY3</td>\n",
       "      <td>-1.199934</td>\n",
       "      <td>-2.957637</td>\n",
       "      <td>5.219411</td>\n",
       "      <td>157.080080</td>\n",
       "    </tr>\n",
       "    <tr>\n",
       "      <th>99998</th>\n",
       "      <td>nmxp2</td>\n",
       "      <td>-2.419896</td>\n",
       "      <td>2.417221</td>\n",
       "      <td>-5.548444</td>\n",
       "      <td>51.795253</td>\n",
       "    </tr>\n",
       "    <tr>\n",
       "      <th>99999</th>\n",
       "      <td>V9kWn</td>\n",
       "      <td>-2.551421</td>\n",
       "      <td>-2.025625</td>\n",
       "      <td>6.090891</td>\n",
       "      <td>102.775767</td>\n",
       "    </tr>\n",
       "  </tbody>\n",
       "</table>\n",
       "</div>"
      ],
      "text/plain": [
       "          id        f0        f1        f2     product\n",
       "99995  4GxBu -1.777037  1.125220  6.263374  172.327046\n",
       "99996  YKFjq -1.261523 -0.894828  2.524545  138.748846\n",
       "99997  tKPY3 -1.199934 -2.957637  5.219411  157.080080\n",
       "99998  nmxp2 -2.419896  2.417221 -5.548444   51.795253\n",
       "99999  V9kWn -2.551421 -2.025625  6.090891  102.775767"
      ]
     },
     "metadata": {},
     "output_type": "display_data"
    }
   ],
   "source": [
    "describe_df(data_2)"
   ]
  },
  {
   "cell_type": "markdown",
   "metadata": {},
   "source": [
    "Все датасеты содержат по 100000 строк, по 5 столбцов, пропусков и явных дубликатов не обнаружено. На первый взгляд никаких аномалий не обнаружено. "
   ]
  },
  {
   "cell_type": "code",
   "execution_count": 11,
   "metadata": {},
   "outputs": [
    {
     "data": {
      "image/png": "[encoded data removed]",
      "text/plain": [
       "<Figure size 1152x720 with 4 Axes>"
      ]
     },
     "metadata": {
      "needs_background": "light"
     },
     "output_type": "display_data"
    }
   ],
   "source": [
    "numerical_columns = ['f0', 'f1', 'f2', 'product']\n",
    "\n",
    "plt.figure(figsize=(16, 10))\n",
    "\n",
    "for i, column in enumerate(numerical_columns, 1):\n",
    "    if column in data_0.columns:\n",
    "        plt.subplot(2, 2, i)\n",
    "        sns.boxplot(x=data_0[column], color='skyblue')\n",
    "        plt.title(f'Ящик с усами для колонки {column}')\n",
    "        plt.xlabel(column)\n",
    "\n",
    "plt.tight_layout()\n",
    "plt.show()"
   ]
  },
  {
   "cell_type": "markdown",
   "metadata": {},
   "source": [
    "Видим, что в столбце f2 наблюдаются выбросы, которые могут мешать модели обучаться. Стоит от них избавиться."
   ]
  },
  {
   "cell_type": "code",
   "execution_count": 12,
   "metadata": {},
   "outputs": [
    {
     "data": {
      "image/png": "[encoded data removed]",
      "text/plain": [
       "<Figure size 432x288 with 4 Axes>"
      ]
     },
     "metadata": {
      "needs_background": "light"
     },
     "output_type": "display_data"
    }
   ],
   "source": [
    "for i, column in enumerate(numerical_columns, 1):\n",
    "    if column in data_1.columns:\n",
    "        plt.subplot(2, 2, i)\n",
    "        sns.boxplot(x=data_1[column], color='skyblue')\n",
    "        plt.title(f'Ящик с усами для колонки {column}')\n",
    "        plt.xlabel(column)\n",
    "\n",
    "plt.tight_layout()\n",
    "plt.show()"
   ]
  },
  {
   "cell_type": "code",
   "execution_count": 13,
   "metadata": {},
   "outputs": [
    {
     "data": {
      "image/png": "[encoded data removed]",
      "text/plain": [
       "<Figure size 432x288 with 4 Axes>"
      ]
     },
     "metadata": {
      "needs_background": "light"
     },
     "output_type": "display_data"
    }
   ],
   "source": [
    "for i, column in enumerate(numerical_columns, 1):\n",
    "    if column in data_2.columns:\n",
    "        plt.subplot(2, 2, i)\n",
    "        sns.boxplot(x=data_2[column], color='skyblue')\n",
    "        plt.title(f'Ящик с усами для колонки {column}')\n",
    "        plt.xlabel(column)\n",
    "\n",
    "plt.tight_layout()\n",
    "plt.show()"
   ]
  },
  {
   "cell_type": "markdown",
   "metadata": {},
   "source": [
    "Аналогичные выбросы у колонки f1 датасета под номером 2, у колонок f0, f1, f2 датасета под номером 3."
   ]
  },
  {
   "cell_type": "code",
   "execution_count": 14,
   "metadata": {},
   "outputs": [],
   "source": [
    "def remove_ouliers(frame,column):\n",
    "    q25=np.array(frame[column].quantile(0.25))\n",
    "    \n",
    "    q75=np.array(frame[column].quantile(0.75))\n",
    "    first_part=q25-1.5*(q75-q25)\n",
    "    second_part=q75+1.5*(q75-q25)\n",
    "    del_index = []\n",
    "    for index_value, value in zip(frame[column].index,frame[column]):\n",
    "        if second_part <= value or value <= first_part:\n",
    "            del_index.append(index_value)\n",
    "    \n",
    "    print('Количество строк, выбранных для удаления: ',len(del_index))\n",
    "    return del_index"
   ]
  },
  {
   "cell_type": "code",
   "execution_count": 15,
   "metadata": {},
   "outputs": [
    {
     "name": "stdout",
     "output_type": "stream",
     "text": [
      "Количество строк, выбранных для удаления:  506\n",
      "Количество строк, выбранных для удаления:  636\n",
      "Количество строк, выбранных для удаления:  1\n",
      "Количество строк, выбранных для удаления:  684\n",
      "Количество строк, выбранных для удаления:  583\n"
     ]
    }
   ],
   "source": [
    "noise_data = [(data_0,\"f2\"),\n",
    " (data_1,\"f1\"),\n",
    " (data_1,\"f0\"),\n",
    " (data_2,\"f1\"),\n",
    " (data_2,\"f2\")]\n",
    "\n",
    "for frame,column in noise_data:\n",
    "    indexes = remove_ouliers(frame,column)\n",
    "    frame.drop(indexes,axis = 0,inplace = True)"
   ]
  },
  {
   "cell_type": "markdown",
   "metadata": {},
   "source": [
    "Данные готовы к обучению."
   ]
  },
  {
   "cell_type": "markdown",
   "metadata": {},
   "source": [
    "## Обучение и проверка модели"
   ]
  },
  {
   "cell_type": "code",
   "execution_count": 16,
   "metadata": {},
   "outputs": [],
   "source": [
    "def linear_model(data):\n",
    "    target = data['product']\n",
    "    features = data.drop(['product', 'id'], axis=1)\n",
    "    \n",
    "    features_train, features_valid, target_train,target_valid = \\\n",
    "    train_test_split(features, target, test_size=0.25, random_state=42)\n",
    "    \n",
    "    model = LinearRegression()\n",
    "    model.fit(features_train, target_train)\n",
    "    predicted_valid = model.predict(features_valid)\n",
    "\n",
    "    rmse = mean_squared_error(target_valid, predicted_valid)**0.5\n",
    "    \n",
    "    predicted_valid_mean = predicted_valid.sum()/len(predicted_valid)\n",
    "    \n",
    "    return target_valid, predicted_valid, rmse, predicted_valid_mean"
   ]
  },
  {
   "cell_type": "code",
   "execution_count": 17,
   "metadata": {},
   "outputs": [],
   "source": [
    "target_valid_0, predicted_valid_0, rmse_0, predicted_valid_mean_0 = linear_model(data_0)\n",
    "target_valid_1, predicted_valid_1, rmse_1, predicted_valid_mean_1 = linear_model(data_1)\n",
    "target_valid_2, predicted_valid_2, rmse_2, predicted_valid_mean_2 = linear_model(data_2)"
   ]
  },
  {
   "cell_type": "code",
   "execution_count": 18,
   "metadata": {},
   "outputs": [
    {
     "name": "stdout",
     "output_type": "stream",
     "text": [
      "Регион_0. Средний предсказанный запас сырья: 92.3505469646708 rmse: 37.815104778634264\n",
      "Регион_1. Средний предсказанный запас сырья: 68.96189897916467 rmse: 0.8880473538662839\n",
      "Регион_2. Средний предсказанный запас сырья: 94.78049178361164 rmse: 39.81709402317025\n"
     ]
    }
   ],
   "source": [
    "print('Регион_0. Средний предсказанный запас сырья:', predicted_valid_mean_0, 'rmse:', rmse_0)\n",
    "print('Регион_1. Средний предсказанный запас сырья:', predicted_valid_mean_1, 'rmse:', rmse_1)\n",
    "print('Регион_2. Средний предсказанный запас сырья:', predicted_valid_mean_2, 'rmse:', rmse_2)"
   ]
  },
  {
   "cell_type": "markdown",
   "metadata": {},
   "source": [
    "Получили такие значения среднего запаса сырья и RMSE. \n",
    "Регионы 0 и 2 являются более объемными по запасам, но ошибка предсказания модели также выше, поэтому необходимо расчитать прибыли и риски."
   ]
  },
  {
   "cell_type": "markdown",
   "metadata": {},
   "source": [
    "## Подготовка к расчёту прибыли"
   ]
  },
  {
   "cell_type": "code",
   "execution_count": 19,
   "metadata": {},
   "outputs": [],
   "source": [
    "REGION_BUDGET_RUB = 10*10**9 # Бюджет на разработку 200 скважин в регионе\n",
    "TOTAL_QUANTITY_POINTS = 500 # При разведке региона исследуют 500 точек\n",
    "SELECTED_QUANTITY_POINTS = 200 # с помощью машинного обучения выбирают 200 точек лучших для разработки\n",
    "BUDGET_QUANTITY_POINTS_RUB = REGION_BUDGET_RUB / SELECTED_QUANTITY_POINTS\n",
    "BARREL_INCOME_RUB = 450 # доход с каждого барреля\n",
    "PRODUCT_UNITS_INCOME_RUB = 450 * 10**3 # доход с каждой единицы продукта\n",
    "LOSS_PROBABILITY_THRESHOLD_PERSENT = 2,5 # порог вероятности убытков, максимальное допустимое значение, проценты"
   ]
  },
  {
   "cell_type": "code",
   "execution_count": 20,
   "metadata": {},
   "outputs": [
    {
     "name": "stdout",
     "output_type": "stream",
     "text": [
      "Достаточный объём сырья для безубыточной разработки новой скважины равен 111111 барреля или 111.111 единицы продукта (тыс. баррелей)\n"
     ]
    }
   ],
   "source": [
    "min_volume_materials = REGION_BUDGET_RUB / SELECTED_QUANTITY_POINTS / BARREL_INCOME_RUB\n",
    "print(f'Достаточный объём сырья для безубыточной \\\n",
    "разработки новой скважины равен {int(min_volume_materials)} барреля \\\n",
    "или {round(min_volume_materials/1000, 3)} единицы продукта (тыс. баррелей)')"
   ]
  },
  {
   "cell_type": "markdown",
   "metadata": {},
   "source": [
    "Расчитаем отклонение от среднего во всех трех регионах."
   ]
  },
  {
   "cell_type": "code",
   "execution_count": 21,
   "metadata": {},
   "outputs": [
    {
     "data": {
      "text/plain": [
       "-18760.564146440316"
      ]
     },
     "execution_count": 21,
     "metadata": {},
     "output_type": "execute_result"
    }
   ],
   "source": [
    "predicted_valid_mean_0*1000 - min_volume_materials"
   ]
  },
  {
   "cell_type": "code",
   "execution_count": 22,
   "metadata": {},
   "outputs": [
    {
     "data": {
      "text/plain": [
       "-42149.212131946435"
      ]
     },
     "execution_count": 22,
     "metadata": {},
     "output_type": "execute_result"
    }
   ],
   "source": [
    "predicted_valid_mean_1*1000 - min_volume_materials"
   ]
  },
  {
   "cell_type": "code",
   "execution_count": 23,
   "metadata": {},
   "outputs": [
    {
     "data": {
      "text/plain": [
       "-16330.619327499473"
      ]
     },
     "execution_count": 23,
     "metadata": {},
     "output_type": "execute_result"
    }
   ],
   "source": [
    "predicted_valid_mean_2*1000 - min_volume_materials"
   ]
  },
  {
   "cell_type": "code",
   "execution_count": 24,
   "metadata": {},
   "outputs": [
    {
     "name": "stdout",
     "output_type": "stream",
     "text": [
      "Средняя расчетная прибыль региона_0 -1688450773.1796284\n",
      "Средняя расчетная прибыль региона_1 -3793429091.8751793\n",
      "Средняя расчетная прибыль региона_2 -1469755739.4749527\n"
     ]
    }
   ],
   "source": [
    "print('Средняя расчетная прибыль региона_0',\\\n",
    "      SELECTED_QUANTITY_POINTS *\\\n",
    "      predicted_valid_mean_0 *\\\n",
    "     PRODUCT_UNITS_INCOME_RUB\\\n",
    "     - REGION_BUDGET_RUB)\n",
    "print('Средняя расчетная прибыль региона_1',\\\n",
    "      SELECTED_QUANTITY_POINTS *\\\n",
    "      predicted_valid_mean_1 *\\\n",
    "     PRODUCT_UNITS_INCOME_RUB\\\n",
    "     - REGION_BUDGET_RUB)\n",
    "print('Средняя расчетная прибыль региона_2',\\\n",
    "      SELECTED_QUANTITY_POINTS *\\\n",
    "      predicted_valid_mean_2 *\\\n",
    "     PRODUCT_UNITS_INCOME_RUB\\\n",
    "     - REGION_BUDGET_RUB)"
   ]
  },
  {
   "cell_type": "markdown",
   "metadata": {},
   "source": [
    "Средний запас сырья скважин меньше значения достаточного объема сырья в каждом из трех регионов, однако в регионе_1 ситуация наихудшая."
   ]
  },
  {
   "cell_type": "code",
   "execution_count": 25,
   "metadata": {},
   "outputs": [
    {
     "name": "stdout",
     "output_type": "stream",
     "text": [
      "Разница между средним значением нефти в 200 скважинах с наибольшим предсказанным объемом нефти со значением безубыточности.\n",
      "\n",
      "Нулевой регион: 40.60377897650548\n",
      "Первый регион: 27.65092738725488\n",
      "Второй регион: 33.46691310366134\n"
     ]
    }
   ],
   "source": [
    "print('Разница между средним значением нефти в 200 скважинах \\\n",
    "с наибольшим предсказанным объемом нефти со значением безубыточности.\\n')\n",
    "print('Нулевой регион:', pd.Series(predicted_valid_0).sort_values(ascending=False).head(200).mean() - min_volume_materials/1000)\n",
    "print('Первый регион:', pd.Series(predicted_valid_1).sort_values(ascending=False).head(200).mean() - min_volume_materials/1000)\n",
    "print('Второй регион:', pd.Series(predicted_valid_2).sort_values(ascending=False).head(200).mean() - min_volume_materials/1000)"
   ]
  },
  {
   "cell_type": "markdown",
   "metadata": {},
   "source": [
    "Заметим, что средние значения объемов нефти в 200 скажинах с наибольшим предсказанным объемом нефти больше, чем точка безубыточности. По этим значениям лидирует нулевой регион"
   ]
  },
  {
   "cell_type": "markdown",
   "metadata": {},
   "source": [
    "По прибыли, как мы уже догадывались раньше, наиболее благоприятными являются регионы 0 и 2.\n",
    "\n",
    "По разнице со средним значением объемов нефти в 200 скважинах и точкой безубыточности является регион 0."
   ]
  },
  {
   "cell_type": "markdown",
   "metadata": {},
   "source": [
    "## Расчёт прибыли и рисков "
   ]
  },
  {
   "cell_type": "markdown",
   "metadata": {},
   "source": [
    "Для начала приведем датасеты к типу Series."
   ]
  },
  {
   "cell_type": "code",
   "execution_count": 27,
   "metadata": {},
   "outputs": [],
   "source": [
    "def series_type(target, pred):\n",
    "    target = target.reset_index(drop=True)\n",
    "    pred = pd.Series(pred)\n",
    "    return target, pred"
   ]
  },
  {
   "cell_type": "code",
   "execution_count": 28,
   "metadata": {},
   "outputs": [],
   "source": [
    "target_valid_0, predicted_valid_0 = series_type(target_valid_0, predicted_valid_0)\n",
    "target_valid_1, predicted_valid_1 = series_type(target_valid_1, predicted_valid_1)\n",
    "target_valid_2, predicted_valid_2 = series_type(target_valid_2, predicted_valid_2)"
   ]
  },
  {
   "cell_type": "code",
   "execution_count": 29,
   "metadata": {},
   "outputs": [],
   "source": [
    "def total_income(target, probabilities, count, PRODUCT_UNITS_INCOME_RUB, REGION_BUDGET_RUB):\n",
    "    prob_sort = probabilities.sort_values(ascending=False)\n",
    "    selected = target[prob_sort.index][:count]\n",
    "    return int(PRODUCT_UNITS_INCOME_RUB * selected.sum() - REGION_BUDGET_RUB)"
   ]
  },
  {
   "cell_type": "markdown",
   "metadata": {},
   "source": [
    "Для расчета фактической прибыли берем 200 самых объяемных залежей, вычитаем из этого затраты на разработку."
   ]
  },
  {
   "cell_type": "code",
   "execution_count": 30,
   "metadata": {},
   "outputs": [],
   "source": [
    "def bootstrap_regions(target, predicted, SELECTED_QUANTITY_POINTS, PRODUCT_UNITS_INCOME_RUB, REGION_BUDGET_RUB):\n",
    "    state = RandomState(12345)\n",
    "    values = []\n",
    "    for i in range(1000):\n",
    "        target_subsample = target.sample(n = TOTAL_QUANTITY_POINTS, replace=True, random_state=state)\n",
    "        pred_subsumple = predicted[target_subsample.index]\n",
    "\n",
    "        values.append(total_income(target_subsample, pred_subsumple, SELECTED_QUANTITY_POINTS, PRODUCT_UNITS_INCOME_RUB, REGION_BUDGET_RUB))\n",
    "    values = pd.Series(values)\n",
    "    values_mean = int(values.mean())\n",
    "    lower = int(values.quantile(q=0.025))\n",
    "    upper = int(values.quantile(q=0.975))\n",
    "    risk = int(len(values[values < 0]) / len(values) * 100)\n",
    "    return values_mean, lower, upper, risk"
   ]
  },
  {
   "cell_type": "code",
   "execution_count": 31,
   "metadata": {},
   "outputs": [],
   "source": [
    "values_mean_0, lower_0, upper_0, risk_0  = bootstrap_regions(target_valid_0, predicted_valid_0, SELECTED_QUANTITY_POINTS, PRODUCT_UNITS_INCOME_RUB, REGION_BUDGET_RUB)\n",
    "values_mean_1, lower_1, upper_1, risk_1  = bootstrap_regions(target_valid_1, predicted_valid_1, SELECTED_QUANTITY_POINTS, PRODUCT_UNITS_INCOME_RUB, REGION_BUDGET_RUB)\n",
    "values_mean_2, lower_2, upper_2, risk_2  = bootstrap_regions(target_valid_2, predicted_valid_2, SELECTED_QUANTITY_POINTS, PRODUCT_UNITS_INCOME_RUB, REGION_BUDGET_RUB)"
   ]
  },
  {
   "cell_type": "code",
   "execution_count": 32,
   "metadata": {},
   "outputs": [
    {
     "name": "stdout",
     "output_type": "stream",
     "text": [
      "Средняя прибыль лучших месторождений региона_0 равна 419948759\n",
      "Средняя прибыль лучших месторождений региона_1 равна 514380773\n",
      "Средняя прибыль лучших месторождений региона_2 равна 363366976\n"
     ]
    }
   ],
   "source": [
    "print('Средняя прибыль лучших месторождений региона_0 равна', values_mean_0)\n",
    "print('Средняя прибыль лучших месторождений региона_1 равна', values_mean_1)\n",
    "print('Средняя прибыль лучших месторождений региона_2 равна', values_mean_2)"
   ]
  },
  {
   "cell_type": "code",
   "execution_count": 33,
   "metadata": {},
   "outputs": [
    {
     "name": "stdout",
     "output_type": "stream",
     "text": [
      "95% доверительный интервал для средней прибыли 200 лучших месторождений региона_0 -153249526 983471595\n",
      "95% доверительный интервал для средней прибыли 200 лучших месторождений региона_1 97422948 942818200\n",
      "95% доверительный интервал для средней прибыли 200 лучших месторождений региона_2 -186074080 941442813\n"
     ]
    }
   ],
   "source": [
    "print('95% доверительный интервал для средней прибыли 200 лучших месторождений региона_0', lower_0, upper_0)\n",
    "print('95% доверительный интервал для средней прибыли 200 лучших месторождений региона_1', lower_1, upper_1)\n",
    "print('95% доверительный интервал для средней прибыли 200 лучших месторождений региона_2', lower_2, upper_2)"
   ]
  },
  {
   "cell_type": "code",
   "execution_count": 34,
   "metadata": {},
   "outputs": [
    {
     "name": "stdout",
     "output_type": "stream",
     "text": [
      "Риск убытков региона_0 равен 5 %\n",
      "Риск убытков региона_1 равен 0 %\n",
      "Риск убытков региона_2 равен 10 %\n"
     ]
    }
   ],
   "source": [
    "print('Риск убытков региона_0 равен', risk_0, '%')\n",
    "print('Риск убытков региона_1 равен', risk_1, '%')\n",
    "print('Риск убытков региона_2 равен', risk_2, '%')"
   ]
  },
  {
   "cell_type": "markdown",
   "metadata": {},
   "source": [
    "Итоговый вывод:\n",
    "\n",
    "В рамках исследования были загружены данные, проведена предобработка данных, включающая в себя удаление выбросов в значимых переменных для всех трех регионов. \n",
    "После предобработки была обучения модель линейной регрессии, посчитана метрика RMSE (корень из среднеквадратической ошибки).\n",
    "\n",
    "Регион_0. Средний предсказанный запас сырья: 92.3505469646708 rmse: 37.815104778634264\n",
    "Регион_1. Средний предсказанный запас сырья: 68.96189897916467 rmse: 0.8880473538662839\n",
    "Регион_2. Средний предсказанный запас сырья: 94.78049178361164 rmse: 39.81709402317025\n",
    "\n",
    "Достаточный объём сырья для безубыточной разработки новой скважины равен 111111 барреля или 111.111 единицы продукта (тыс. баррелей)\n",
    "\n",
    "По значениям прибыли и сравнением наилучшего предсказания и значения точки безубыточности наиболее предпочтительными являются регионы: регион_0 и регион_2. \n",
    "\n",
    "Однако после применения техники Bootstrap с 1000 подвыборками мы приходим к выводу, что наиболее благоприятным регионом является регион_1, средняя прибыль по которому составляет 514380773 рублей, который имеет достаточно узкие границы доверительного 95%-ого интервала и практически нулевые риски, так как метрика RMSE в модели линейной регрессии была наименьшей. \n",
    "Все из-за того, что у заказчика были требования с процентами риска менее 2,5\n"
   ]
  }
 ],
 "metadata": {
  "ExecuteTimeLog": [
   {
    "duration": 17239,
    "start_time": "2025-02-05T11:12:23.051Z"
   },
   {
    "duration": 3420,
    "start_time": "2025-02-05T11:12:40.292Z"
   },
   {
    "duration": 4736,
    "start_time": "2025-02-05T11:12:43.714Z"
   },
   {
    "duration": 2405,
    "start_time": "2025-02-05T11:12:48.452Z"
   },
   {
    "duration": 459,
    "start_time": "2025-02-05T11:18:33.425Z"
   },
   {
    "duration": 6,
    "start_time": "2025-02-05T11:22:05.136Z"
   },
   {
    "duration": 180,
    "start_time": "2025-02-05T11:22:17.069Z"
   },
   {
    "duration": 6,
    "start_time": "2025-02-05T11:22:28.581Z"
   },
   {
    "duration": 126,
    "start_time": "2025-02-05T11:22:33.125Z"
   },
   {
    "duration": 104,
    "start_time": "2025-02-05T11:23:12.426Z"
   },
   {
    "duration": 112,
    "start_time": "2025-02-05T11:23:21.985Z"
   },
   {
    "duration": 633,
    "start_time": "2025-02-05T11:29:01.902Z"
   },
   {
    "duration": 5,
    "start_time": "2025-02-05T11:34:26.636Z"
   },
   {
    "duration": 18,
    "start_time": "2025-02-05T11:34:52.737Z"
   },
   {
    "duration": 579,
    "start_time": "2025-02-05T11:35:48.327Z"
   },
   {
    "duration": 473,
    "start_time": "2025-02-05T11:36:17.782Z"
   },
   {
    "duration": 4,
    "start_time": "2025-02-05T11:37:20.329Z"
   },
   {
    "duration": 263,
    "start_time": "2025-02-05T11:37:23.068Z"
   },
   {
    "duration": 4,
    "start_time": "2025-02-05T11:41:44.040Z"
   },
   {
    "duration": 191,
    "start_time": "2025-02-05T11:42:01.978Z"
   },
   {
    "duration": 5,
    "start_time": "2025-02-05T11:42:28.783Z"
   },
   {
    "duration": 86,
    "start_time": "2025-02-05T11:42:36.386Z"
   },
   {
    "duration": 411,
    "start_time": "2025-02-05T11:43:25.756Z"
   },
   {
    "duration": 7,
    "start_time": "2025-02-05T11:43:41.327Z"
   },
   {
    "duration": 4,
    "start_time": "2025-02-05T12:06:09.464Z"
   },
   {
    "duration": 3,
    "start_time": "2025-02-05T12:06:11.828Z"
   },
   {
    "duration": 4,
    "start_time": "2025-02-05T12:09:56.871Z"
   },
   {
    "duration": 4,
    "start_time": "2025-02-05T12:10:55.776Z"
   },
   {
    "duration": 5,
    "start_time": "2025-02-05T12:10:56.227Z"
   },
   {
    "duration": 5,
    "start_time": "2025-02-05T12:11:30.664Z"
   },
   {
    "duration": 11,
    "start_time": "2025-02-05T12:15:26.336Z"
   },
   {
    "duration": 4,
    "start_time": "2025-02-05T12:15:31.430Z"
   },
   {
    "duration": 4,
    "start_time": "2025-02-05T12:15:32.706Z"
   },
   {
    "duration": 3,
    "start_time": "2025-02-05T12:15:47.643Z"
   },
   {
    "duration": 4,
    "start_time": "2025-02-05T12:17:00.465Z"
   },
   {
    "duration": 4364,
    "start_time": "2025-02-05T12:17:27.580Z"
   },
   {
    "duration": 5,
    "start_time": "2025-02-05T12:17:57.286Z"
   },
   {
    "duration": 4,
    "start_time": "2025-02-05T12:18:15.802Z"
   },
   {
    "duration": 4,
    "start_time": "2025-02-05T12:18:24.620Z"
   },
   {
    "duration": 5,
    "start_time": "2025-02-05T12:20:46.102Z"
   },
   {
    "duration": 16,
    "start_time": "2025-02-05T12:20:57.878Z"
   },
   {
    "duration": 6,
    "start_time": "2025-02-05T12:21:05.810Z"
   },
   {
    "duration": 33838,
    "start_time": "2025-02-05T13:36:46.448Z"
   },
   {
    "duration": 3526,
    "start_time": "2025-02-05T13:37:20.288Z"
   },
   {
    "duration": 4300,
    "start_time": "2025-02-05T13:37:23.816Z"
   },
   {
    "duration": 2508,
    "start_time": "2025-02-05T13:37:28.119Z"
   },
   {
    "duration": 5166,
    "start_time": "2025-02-05T13:53:22.465Z"
   },
   {
    "duration": 2601,
    "start_time": "2025-02-05T13:53:27.634Z"
   },
   {
    "duration": 2634,
    "start_time": "2025-02-05T13:53:30.238Z"
   },
   {
    "duration": 2268,
    "start_time": "2025-02-05T13:53:32.875Z"
   },
   {
    "duration": 412,
    "start_time": "2025-02-05T13:53:35.144Z"
   },
   {
    "duration": 5,
    "start_time": "2025-02-05T13:53:35.558Z"
   },
   {
    "duration": 163,
    "start_time": "2025-02-05T13:53:35.565Z"
   },
   {
    "duration": 117,
    "start_time": "2025-02-05T13:53:35.729Z"
   },
   {
    "duration": 126,
    "start_time": "2025-02-05T13:53:35.847Z"
   },
   {
    "duration": 630,
    "start_time": "2025-02-05T13:53:35.976Z"
   },
   {
    "duration": 529,
    "start_time": "2025-02-05T13:53:36.607Z"
   },
   {
    "duration": 465,
    "start_time": "2025-02-05T13:53:37.137Z"
   },
   {
    "duration": 4,
    "start_time": "2025-02-05T13:53:37.604Z"
   },
   {
    "duration": 265,
    "start_time": "2025-02-05T13:53:37.610Z"
   },
   {
    "duration": 4,
    "start_time": "2025-02-05T13:53:37.877Z"
   },
   {
    "duration": 487,
    "start_time": "2025-02-05T13:53:37.883Z"
   },
   {
    "duration": 88,
    "start_time": "2025-02-05T13:53:38.373Z"
   },
   {
    "duration": 95,
    "start_time": "2025-02-05T13:53:38.467Z"
   },
   {
    "duration": 8,
    "start_time": "2025-02-05T13:53:38.563Z"
   },
   {
    "duration": 6,
    "start_time": "2025-02-05T13:53:38.572Z"
   },
   {
    "duration": 4,
    "start_time": "2025-02-05T13:53:38.579Z"
   },
   {
    "duration": 6,
    "start_time": "2025-02-05T13:53:38.585Z"
   },
   {
    "duration": 19,
    "start_time": "2025-02-05T13:53:38.592Z"
   },
   {
    "duration": 18,
    "start_time": "2025-02-05T13:53:38.613Z"
   },
   {
    "duration": 3,
    "start_time": "2025-02-05T13:53:38.633Z"
   },
   {
    "duration": 4,
    "start_time": "2025-02-05T13:53:38.661Z"
   },
   {
    "duration": 4,
    "start_time": "2025-02-05T13:53:38.666Z"
   },
   {
    "duration": 4,
    "start_time": "2025-02-05T13:53:38.674Z"
   },
   {
    "duration": 4276,
    "start_time": "2025-02-05T13:53:38.680Z"
   },
   {
    "duration": 6,
    "start_time": "2025-02-05T13:53:42.957Z"
   },
   {
    "duration": 16,
    "start_time": "2025-02-05T13:53:42.965Z"
   },
   {
    "duration": 7,
    "start_time": "2025-02-05T13:53:42.983Z"
   },
   {
    "duration": 3,
    "start_time": "2025-02-05T13:54:18.079Z"
   },
   {
    "duration": 16,
    "start_time": "2025-02-05T13:54:47.630Z"
   },
   {
    "duration": 15,
    "start_time": "2025-02-05T13:58:43.819Z"
   },
   {
    "duration": 91,
    "start_time": "2025-02-05T13:58:50.329Z"
   },
   {
    "duration": 15,
    "start_time": "2025-02-05T13:59:06.398Z"
   },
   {
    "duration": 16,
    "start_time": "2025-02-05T14:00:38.791Z"
   },
   {
    "duration": 13,
    "start_time": "2025-02-05T14:08:16.828Z"
   },
   {
    "duration": 7,
    "start_time": "2025-02-05T14:08:37.122Z"
   },
   {
    "duration": 5111,
    "start_time": "2025-02-05T14:13:06.093Z"
   },
   {
    "duration": 2598,
    "start_time": "2025-02-05T14:13:11.207Z"
   },
   {
    "duration": 2568,
    "start_time": "2025-02-05T14:13:13.807Z"
   },
   {
    "duration": 2164,
    "start_time": "2025-02-05T14:13:16.378Z"
   },
   {
    "duration": 408,
    "start_time": "2025-02-05T14:13:18.544Z"
   },
   {
    "duration": 7,
    "start_time": "2025-02-05T14:13:18.954Z"
   },
   {
    "duration": 5,
    "start_time": "2025-02-05T14:13:18.963Z"
   },
   {
    "duration": 131,
    "start_time": "2025-02-05T14:13:18.969Z"
   },
   {
    "duration": 113,
    "start_time": "2025-02-05T14:13:19.102Z"
   },
   {
    "duration": 120,
    "start_time": "2025-02-05T14:13:19.218Z"
   },
   {
    "duration": 651,
    "start_time": "2025-02-05T14:13:19.339Z"
   },
   {
    "duration": 530,
    "start_time": "2025-02-05T14:13:19.992Z"
   },
   {
    "duration": 438,
    "start_time": "2025-02-05T14:13:20.523Z"
   },
   {
    "duration": 5,
    "start_time": "2025-02-05T14:13:20.962Z"
   },
   {
    "duration": 249,
    "start_time": "2025-02-05T14:13:20.968Z"
   },
   {
    "duration": 5,
    "start_time": "2025-02-05T14:13:21.218Z"
   },
   {
    "duration": 450,
    "start_time": "2025-02-05T14:13:21.224Z"
   },
   {
    "duration": 9,
    "start_time": "2025-02-05T14:13:21.760Z"
   },
   {
    "duration": 93,
    "start_time": "2025-02-05T14:13:21.771Z"
   },
   {
    "duration": 4,
    "start_time": "2025-02-05T14:13:21.866Z"
   },
   {
    "duration": 8,
    "start_time": "2025-02-05T14:13:21.872Z"
   },
   {
    "duration": 10,
    "start_time": "2025-02-05T14:13:21.882Z"
   },
   {
    "duration": 4,
    "start_time": "2025-02-05T14:13:21.894Z"
   },
   {
    "duration": 9,
    "start_time": "2025-02-05T14:13:21.901Z"
   },
   {
    "duration": 16,
    "start_time": "2025-02-05T14:13:21.912Z"
   },
   {
    "duration": 57,
    "start_time": "2025-02-05T14:13:21.929Z"
   },
   {
    "duration": 0,
    "start_time": "2025-02-05T14:13:21.988Z"
   },
   {
    "duration": 0,
    "start_time": "2025-02-05T14:13:21.990Z"
   },
   {
    "duration": 0,
    "start_time": "2025-02-05T14:13:21.991Z"
   },
   {
    "duration": 0,
    "start_time": "2025-02-05T14:13:21.992Z"
   },
   {
    "duration": 0,
    "start_time": "2025-02-05T14:13:21.993Z"
   },
   {
    "duration": 0,
    "start_time": "2025-02-05T14:13:21.994Z"
   },
   {
    "duration": 0,
    "start_time": "2025-02-05T14:13:21.995Z"
   },
   {
    "duration": 0,
    "start_time": "2025-02-05T14:13:21.997Z"
   },
   {
    "duration": 5217,
    "start_time": "2025-02-05T14:14:54.606Z"
   },
   {
    "duration": 2594,
    "start_time": "2025-02-05T14:14:59.826Z"
   },
   {
    "duration": 2649,
    "start_time": "2025-02-05T14:15:02.422Z"
   },
   {
    "duration": 2215,
    "start_time": "2025-02-05T14:15:05.074Z"
   },
   {
    "duration": 416,
    "start_time": "2025-02-05T14:15:07.291Z"
   },
   {
    "duration": 3,
    "start_time": "2025-02-05T14:15:07.709Z"
   },
   {
    "duration": 18,
    "start_time": "2025-02-05T14:15:07.714Z"
   },
   {
    "duration": 149,
    "start_time": "2025-02-05T14:15:07.733Z"
   },
   {
    "duration": 121,
    "start_time": "2025-02-05T14:15:07.883Z"
   },
   {
    "duration": 154,
    "start_time": "2025-02-05T14:15:08.007Z"
   },
   {
    "duration": 674,
    "start_time": "2025-02-05T14:15:08.163Z"
   },
   {
    "duration": 599,
    "start_time": "2025-02-05T14:15:08.839Z"
   },
   {
    "duration": 484,
    "start_time": "2025-02-05T14:15:09.440Z"
   },
   {
    "duration": 4,
    "start_time": "2025-02-05T14:15:09.926Z"
   },
   {
    "duration": 246,
    "start_time": "2025-02-05T14:15:09.932Z"
   },
   {
    "duration": 5,
    "start_time": "2025-02-05T14:15:10.180Z"
   },
   {
    "duration": 388,
    "start_time": "2025-02-05T14:15:10.186Z"
   },
   {
    "duration": 87,
    "start_time": "2025-02-05T14:15:10.577Z"
   },
   {
    "duration": 93,
    "start_time": "2025-02-05T14:15:10.668Z"
   },
   {
    "duration": 8,
    "start_time": "2025-02-05T14:15:10.763Z"
   },
   {
    "duration": 10,
    "start_time": "2025-02-05T14:15:10.773Z"
   },
   {
    "duration": 10,
    "start_time": "2025-02-05T14:15:10.784Z"
   },
   {
    "duration": 4,
    "start_time": "2025-02-05T14:15:10.796Z"
   },
   {
    "duration": 6,
    "start_time": "2025-02-05T14:15:10.801Z"
   },
   {
    "duration": 15,
    "start_time": "2025-02-05T14:15:10.809Z"
   },
   {
    "duration": 3,
    "start_time": "2025-02-05T14:15:10.826Z"
   },
   {
    "duration": 31,
    "start_time": "2025-02-05T14:15:10.830Z"
   },
   {
    "duration": 4,
    "start_time": "2025-02-05T14:15:10.865Z"
   },
   {
    "duration": 3,
    "start_time": "2025-02-05T14:15:10.871Z"
   },
   {
    "duration": 5,
    "start_time": "2025-02-05T14:15:10.876Z"
   },
   {
    "duration": 4223,
    "start_time": "2025-02-05T14:15:10.882Z"
   },
   {
    "duration": 4,
    "start_time": "2025-02-05T14:15:15.107Z"
   },
   {
    "duration": 31,
    "start_time": "2025-02-05T14:15:15.113Z"
   },
   {
    "duration": 26,
    "start_time": "2025-02-05T14:15:15.145Z"
   },
   {
    "duration": 5137,
    "start_time": "2025-02-05T14:16:25.096Z"
   },
   {
    "duration": 2597,
    "start_time": "2025-02-05T14:16:30.235Z"
   },
   {
    "duration": 2672,
    "start_time": "2025-02-05T14:16:32.834Z"
   },
   {
    "duration": 2141,
    "start_time": "2025-02-05T14:16:35.508Z"
   },
   {
    "duration": 416,
    "start_time": "2025-02-05T14:16:37.650Z"
   },
   {
    "duration": 3,
    "start_time": "2025-02-05T14:16:38.068Z"
   },
   {
    "duration": 33,
    "start_time": "2025-02-05T14:16:38.073Z"
   },
   {
    "duration": 122,
    "start_time": "2025-02-05T14:16:38.108Z"
   },
   {
    "duration": 116,
    "start_time": "2025-02-05T14:16:38.232Z"
   },
   {
    "duration": 109,
    "start_time": "2025-02-05T14:16:38.362Z"
   },
   {
    "duration": 589,
    "start_time": "2025-02-05T14:16:38.472Z"
   },
   {
    "duration": 552,
    "start_time": "2025-02-05T14:16:39.063Z"
   },
   {
    "duration": 405,
    "start_time": "2025-02-05T14:16:39.617Z"
   },
   {
    "duration": 4,
    "start_time": "2025-02-05T14:16:40.024Z"
   },
   {
    "duration": 305,
    "start_time": "2025-02-05T14:16:40.030Z"
   },
   {
    "duration": 4,
    "start_time": "2025-02-05T14:16:40.337Z"
   },
   {
    "duration": 433,
    "start_time": "2025-02-05T14:16:40.342Z"
   },
   {
    "duration": 83,
    "start_time": "2025-02-05T14:16:40.778Z"
   },
   {
    "duration": 5,
    "start_time": "2025-02-05T14:16:40.864Z"
   },
   {
    "duration": 6,
    "start_time": "2025-02-05T14:16:40.961Z"
   },
   {
    "duration": 5,
    "start_time": "2025-02-05T14:16:40.969Z"
   },
   {
    "duration": 5,
    "start_time": "2025-02-05T14:16:40.976Z"
   },
   {
    "duration": 9,
    "start_time": "2025-02-05T14:16:40.983Z"
   },
   {
    "duration": 5,
    "start_time": "2025-02-05T14:16:40.994Z"
   },
   {
    "duration": 16,
    "start_time": "2025-02-05T14:16:41.000Z"
   },
   {
    "duration": 3,
    "start_time": "2025-02-05T14:16:41.017Z"
   },
   {
    "duration": 3,
    "start_time": "2025-02-05T14:16:41.062Z"
   },
   {
    "duration": 4,
    "start_time": "2025-02-05T14:16:41.068Z"
   },
   {
    "duration": 12,
    "start_time": "2025-02-05T14:16:41.074Z"
   },
   {
    "duration": 18,
    "start_time": "2025-02-05T14:16:41.088Z"
   },
   {
    "duration": 4190,
    "start_time": "2025-02-05T14:16:41.108Z"
   },
   {
    "duration": 5,
    "start_time": "2025-02-05T14:16:45.299Z"
   },
   {
    "duration": 24,
    "start_time": "2025-02-05T14:16:45.305Z"
   },
   {
    "duration": 18,
    "start_time": "2025-02-05T14:16:45.330Z"
   }
  ],
  "kernelspec": {
   "display_name": "Python 3 (ipykernel)",
   "language": "python",
   "name": "python3"
  },
  "language_info": {
   "codemirror_mode": {
    "name": "ipython",
    "version": 3
   },
   "file_extension": ".py",
   "mimetype": "text/x-python",
   "name": "python",
   "nbconvert_exporter": "python",
   "pygments_lexer": "ipython3",
   "version": "3.9.5"
  },
  "toc": {
   "base_numbering": 1,
   "nav_menu": {},
   "number_sections": true,
   "sideBar": true,
   "skip_h1_title": true,
   "title_cell": "Table of Contents",
   "title_sidebar": "Contents",
   "toc_cell": false,
   "toc_position": {},
   "toc_section_display": true,
   "toc_window_display": false
  }
 },
 "nbformat": 4,
 "nbformat_minor": 2
}
